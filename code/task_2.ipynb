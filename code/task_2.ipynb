{
 "cells": [
  {
   "cell_type": "code",
   "execution_count": 28,
   "metadata": {},
   "outputs": [],
   "source": [
    "# libraries\n",
    "import pandas as pd\n",
    "from matplotlib import pyplot\n",
    "from sklearn import metrics \n",
    "from sklearn.model_selection import KFold\n",
    "import numpy as np \n",
    "from warnings import simplefilter\n",
    "simplefilter(action='ignore', category=FutureWarning)\n",
    "from sklearn import metrics \n",
    "import matplotlib.pyplot as plt\n",
    "from sklearn.metrics import ConfusionMatrixDisplay"
   ]
  },
  {
   "cell_type": "code",
   "execution_count": 2,
   "metadata": {},
   "outputs": [],
   "source": [
    "#paths to the file containing the samples with the processed features\n",
    "feature_of_counts = \"../processed_data/feature_vectors_counts.csv\""
   ]
  },
  {
   "cell_type": "code",
   "execution_count": 8,
   "metadata": {},
   "outputs": [],
   "source": [
    "# Importing the dataset, and performing an undersampling of the benignware\n",
    "dataset = pd.read_csv(feature_of_counts, index_col=0)\n",
    "\n",
    "malware= dataset.loc[dataset[\"malware\"] == True]\n",
    "benign = dataset.loc[dataset[\"malware\"] == False]\n",
    "benign_undersample = benign.sample(n=len(malware), replace= False, random_state=42)\n",
    "\n",
    "dataset= pd.concat([malware, benign_undersample])\n",
    "X = dataset.iloc[:,1:9].values\n",
    "y = dataset.iloc[:, 9].values"
   ]
  },
  {
   "cell_type": "code",
   "execution_count": 4,
   "metadata": {},
   "outputs": [],
   "source": [
    "# Splitting (randomly) the dataset into the Training set and the (unseen) Test set\n",
    "# Note this is only for the first task of the coursework. You'll need a different approach for the other tasks, as they also need a validation stage in addition to the test with unseen data.\n",
    "# Also note the split is training 80% and test 20%) \n",
    "from sklearn.model_selection import train_test_split\n",
    "X_train, X_test, y_train, y_test = train_test_split(X, y.astype(int), random_state=42, test_size = 0.2)\n"
   ]
  },
  {
   "cell_type": "code",
   "execution_count": 5,
   "metadata": {},
   "outputs": [],
   "source": [
    "# Feature Scaling\n",
    "from sklearn.preprocessing import StandardScaler\n",
    "sc = StandardScaler()\n",
    "X_train = sc.fit_transform(X_train)\n",
    "X_test = sc.transform(X_test)\n"
   ]
  },
  {
   "cell_type": "markdown",
   "metadata": {},
   "source": [
    "## Random Forest Classifier"
   ]
  },
  {
   "cell_type": "markdown",
   "metadata": {},
   "source": [
    "Based on [this](https://blog.dataiku.com/narrowing-the-search-which-hyperparameters-really-matter) article, min_samples_leaf and max_features are the most important hyperparameters for the Random Forest Classifier. At least for his project."
   ]
  },
  {
   "cell_type": "code",
   "execution_count": 6,
   "metadata": {},
   "outputs": [],
   "source": [
    "# Fitting the model to the Training set\n",
    "from sklearn.ensemble import RandomForestClassifier"
   ]
  },
  {
   "cell_type": "code",
   "execution_count": 18,
   "metadata": {},
   "outputs": [
    {
     "name": "stdout",
     "output_type": "stream",
     "text": [
      "min_samples_leaf: 1, max_features: None gives the avarage AUC: 0.9773652567148954\n",
      "min_samples_leaf: 1, max_features: sqrt gives the avarage AUC: 0.979927086928206\n"
     ]
    }
   ],
   "source": [
    "# creating a RF classifier and performing a crossvalidation for it\n",
    "X_train_RF , y_train_RF = np.array(X_train), np.array(y_train)\n",
    "kf = KFold(n_splits=3,shuffle=True)\n",
    "\n",
    "avarage_auc_RF_max = 0 \n",
    "min_samples_leaf_best = 0 \n",
    "max_features_best = 0\n",
    "\n",
    "for min_samples_leaf in [1, 20, 40]:\n",
    "    for max_features in [None, \"sqrt\", 0.2]:\n",
    "        avarage_auc = 0\n",
    "        for train, test in kf.split(X_train_RF):\n",
    "            training_X , training_y = X_train_RF[train], y_train_RF[train]\n",
    "            test_X, train_y = X_train_RF[test], y_train_RF[test]\n",
    "\n",
    "            clf = RandomForestClassifier(min_samples_leaf=min_samples_leaf, max_features=max_features, random_state=42)\n",
    "            clf.fit(training_X, training_y)\n",
    "            scores_clf = clf.predict_proba(test_X)[:,1]\n",
    "\n",
    "            AUC_rfc = metrics.roc_auc_score(train_y, scores_clf)\n",
    "            avarage_auc = avarage_auc + AUC_rfc\n",
    "            \n",
    "        avarage_auc = avarage_auc/kf.get_n_splits()\n",
    "        if avarage_auc > avarage_auc_RF_max:\n",
    "            avarage_auc_RF_max = avarage_auc\n",
    "            min_samples_leaf_best = min_samples_leaf\n",
    "            max_features_best = max_features\n",
    "            print(f\"min_samples_leaf: {min_samples_leaf_best}, max_features: {max_features_best} gives the avarage AUC: {avarage_auc_RF_max}\")\n"
   ]
  },
  {
   "cell_type": "code",
   "execution_count": 30,
   "metadata": {},
   "outputs": [
    {
     "name": "stdout",
     "output_type": "stream",
     "text": [
      "ACCURACY OF THE MODEL for Random forest: 0.9348021582733813\n",
      "PRECISION OF MODEL for Random forest: 0.9314079422382672\n",
      "RECALL OF MODEL for Random forest: 0.9373297002724795\n",
      "F1-SCORE OF MODEL for Random forest: 0.9343594386600271\n"
     ]
    },
    {
     "data": {
      "image/png": "[encoded data removed]",
      "text/plain": [
       "<Figure size 640x480 with 2 Axes>"
      ]
     },
     "metadata": {},
     "output_type": "display_data"
    }
   ],
   "source": [
    "clf_best = RandomForestClassifier(min_samples_leaf=min_samples_leaf_best, max_features=max_features_best, random_state=42)\n",
    "clf_best.fit(X_train, y_train)\n",
    "scores_clf_best = clf_best.predict(X_test)\n",
    "\n",
    "print(\"ACCURACY OF THE MODEL for Random forest:\", metrics.accuracy_score(y_test, scores_clf_best))\n",
    "print(\"PRECISION OF MODEL for Random forest:\", metrics.precision_score(y_test, scores_clf_best))\n",
    "print(\"RECALL OF MODEL for Random forest:\", metrics.recall_score(y_test, scores_clf_best))\n",
    "print(\"F1-SCORE OF MODEL for Random forest:\", metrics.f1_score(y_test, scores_clf_best))\n",
    "\n",
    "ConfusionMatrixDisplay.from_estimator(clf_best, X_test, y_test)\n",
    "plt.title('Confusion Matrix')\n",
    "plt.ylabel('True Values')\n",
    "plt.xlabel('Predicted Values')\n",
    "plt.show()\n",
    "\n"
   ]
  },
  {
   "cell_type": "markdown",
   "metadata": {},
   "source": [
    "## Logistic Regression"
   ]
  },
  {
   "cell_type": "code",
   "execution_count": 19,
   "metadata": {},
   "outputs": [],
   "source": [
    "from sklearn.linear_model import LogisticRegression"
   ]
  },
  {
   "cell_type": "code",
   "execution_count": 20,
   "metadata": {},
   "outputs": [
    {
     "name": "stdout",
     "output_type": "stream",
     "text": [
      "Solver lbfgs, toleration 0.0001, regulation 0.1, itteration 100 gives the avarage AUC of 0.895181\n",
      "Solver lbfgs, toleration 0.0001, regulation 10, itteration 100 gives the avarage AUC of 0.895877\n",
      "Solver lbfgs, toleration 0.0001, regulation 10, itteration 1000 gives the avarage AUC of 0.896068\n",
      "Solver newton-cg, toleration 0.0001, regulation 10, itteration 1000 gives the avarage AUC of 0.896263\n"
     ]
    }
   ],
   "source": [
    "X_train_log , y_train_log = np.array(X_train), np.array(y_train)\n",
    "kf = KFold(n_splits=3,shuffle=True)\n",
    "\n",
    "avarage_auc_log_min = 0 \n",
    "algorithm_best = \"\"\n",
    "toleration_best = 0\n",
    "regulation_best = 0 \n",
    "iter_best = 0 \n",
    "\n",
    "for algorithm in ['lbfgs', 'newton-cg']:\n",
    "  for toleration in (1e-4, 1e-3,1e-2):\n",
    "    for regulation in (1e-1, 1e1):\n",
    "      for iter in (100, 1000):\n",
    "        avarage_auc = 0 \n",
    "        for train, test in kf.split(X_train_RF):\n",
    "          training_X , training_y = X_train_log[train], y_train_log[train]\n",
    "          test_X, train_y = X_train_log[test], y_train_log[test]\n",
    "          \n",
    "          log = LogisticRegression(solver = algorithm, tol = toleration, C= regulation, random_state = 42,  max_iter=iter)\n",
    "          log.fit(training_X, training_y)\n",
    "          scores_log = log.predict_proba(test_X)[:,1]\n",
    "\n",
    "          AUC_log = metrics.roc_auc_score(train_y, scores_log)\n",
    "          avarage_auc += AUC_log\n",
    "          \n",
    "        avarage_auc = avarage_auc/kf.get_n_splits()\n",
    "        if avarage_auc > avarage_auc_log_min:\n",
    "            avarage_auc_log_min = avarage_auc \n",
    "            algorithm_best = algorithm\n",
    "            toleration_best = toleration\n",
    "            regulation_best = regulation\n",
    "            iter_best = iter\n",
    "            print(f\"Solver {algorithm_best!s}, toleration {toleration_best:g}, regulation {regulation_best:g}, itteration {iter_best:g} gives the avarage AUC of {avarage_auc_log_min:g}\")\n",
    " "
   ]
  },
  {
   "cell_type": "code",
   "execution_count": null,
   "metadata": {},
   "outputs": [],
   "source": []
  },
  {
   "cell_type": "markdown",
   "metadata": {},
   "source": [
    "## Gradient Boosting Classifier"
   ]
  },
  {
   "cell_type": "markdown",
   "metadata": {},
   "source": [
    "[This](https://aiml.com/what-are-the-key-hyper-parameters-for-a-gbm-model/) article defines *learning_rate* and *n_estimators* as the two most important hyperparameters"
   ]
  },
  {
   "cell_type": "code",
   "execution_count": 21,
   "metadata": {},
   "outputs": [],
   "source": [
    "from sklearn.ensemble import GradientBoostingClassifier"
   ]
  },
  {
   "cell_type": "code",
   "execution_count": 24,
   "metadata": {},
   "outputs": [
    {
     "name": "stdout",
     "output_type": "stream",
     "text": [
      "learning_rate: 0.05, n_estimators: 2 gives the avarage AUC: 0.8768861255919013\n",
      "learning_rate: 0.05, n_estimators: 8 gives the avarage AUC: 0.8914689490059721\n",
      "learning_rate: 0.05, n_estimators: 16 gives the avarage AUC: 0.9002455675211731\n",
      "learning_rate: 0.1, n_estimators: 16 gives the avarage AUC: 0.915392128225298\n",
      "learning_rate: 0.2, n_estimators: 16 gives the avarage AUC: 0.9300365158313292\n"
     ]
    }
   ],
   "source": [
    "X_train_GBC , y_train_GBC = np.array(X_train), np.array(y_train)\n",
    "kf = KFold(n_splits=3,shuffle=True)\n",
    "\n",
    "avarage_auc_gbc_min = 0 \n",
    "learning_rate_best = 0\n",
    "n_estimators_best = 0\n",
    "\n",
    "for learning_rate in [0.05, 0.1, 0.2]:\n",
    "    for n_estimators in [2, 8, 16]:\n",
    "        avarage_auc = 0 \n",
    "        for train, test in kf.split(X_train_RF):\n",
    "            training_X , training_y = X_train_GBC[train], y_train_GBC[train]\n",
    "            test_X, train_y = X_train_GBC[test], y_train_GBC[test]\n",
    "\n",
    "            gb= GradientBoostingClassifier(learning_rate=learning_rate,n_estimators=n_estimators ,random_state=42)\n",
    "            gb.fit(training_X, training_y)\n",
    "            scores_gb = gb.predict_proba(test_X)[:,1]\n",
    "\n",
    "            AUC_gb = metrics.roc_auc_score(train_y, scores_gb)\n",
    "            avarage_auc += AUC_gb\n",
    "            \n",
    "        avarage_auc = avarage_auc/kf.get_n_splits()\n",
    "        if avarage_auc > avarage_auc_gbc_min:\n",
    "            avarage_auc_gbc_min = avarage_auc\n",
    "            learning_rate_best = learning_rate\n",
    "            n_estimators_best = n_estimators\n",
    "            print(f\"learning_rate: {learning_rate_best}, n_estimators: {n_estimators_best} gives the avarage AUC: {avarage_auc_gbc_min}\")"
   ]
  },
  {
   "cell_type": "markdown",
   "metadata": {},
   "source": [
    "## Ada Boost Classifier"
   ]
  },
  {
   "cell_type": "markdown",
   "metadata": {},
   "source": [
    "[This](https://medium.com/swlh/the-hyperparameter-cheat-sheet-770f1fed32ff) article defines *n_estimators* as the most important hyperparameter, with *learning_rate* and *base_estimator* as two other important ones. We will tweak n_estimators and learning_rate."
   ]
  },
  {
   "cell_type": "code",
   "execution_count": 23,
   "metadata": {},
   "outputs": [],
   "source": [
    "from sklearn.ensemble import AdaBoostClassifier"
   ]
  },
  {
   "cell_type": "code",
   "execution_count": 25,
   "metadata": {},
   "outputs": [
    {
     "name": "stdout",
     "output_type": "stream",
     "text": [
      "learning_rate: 0.05, n_estimators: 2 gives the avarage AUC: 0.25181263942505155\n",
      "learning_rate: 0.05, n_estimators: 8 gives the avarage AUC: 0.27132657716687536\n",
      "learning_rate: 0.05, n_estimators: 16 gives the avarage AUC: 0.27524107406386156\n",
      "learning_rate: 0.1, n_estimators: 8 gives the avarage AUC: 0.2780859975688254\n",
      "learning_rate: 0.1, n_estimators: 16 gives the avarage AUC: 0.286290087742128\n",
      "learning_rate: 0.2, n_estimators: 16 gives the avarage AUC: 0.29239089874857793\n"
     ]
    }
   ],
   "source": [
    "X_train_abc , y_train_abc = np.array(X_train), np.array(y_train)\n",
    "kf = KFold(n_splits=3,shuffle=True)\n",
    "\n",
    "avarage_auc_abc_min = 0 \n",
    "learning_rate_best = 0\n",
    "n_estimators_best = 0 \n",
    "\n",
    "for learning_rate in [0.05, 0.1, 0.2]:\n",
    "    for n_estimators in [2, 8, 16]:\n",
    "        avarage_auc = 0 \n",
    "        for train, test in kf.split(X_train_RF):\n",
    "            training_X , training_y = X_train_abc[train], y_train_abc[train]\n",
    "            test_X, train_y = X_train_abc[test], y_train_abc[test]\n",
    "\n",
    "            abc= AdaBoostClassifier(learning_rate=learning_rate, n_estimators=n_estimators,random_state=42)\n",
    "            abc.fit(training_X, training_y)\n",
    "            scores_abc = abc.predict_proba(test_X)[:,1]\n",
    "\n",
    "            AUC_abc = metrics.roc_auc_score(train_y, scores_abc)\n",
    "            avarage_auc = AUC_abc\n",
    "\n",
    "        avarage_auc = avarage_auc/kf.get_n_splits()\n",
    "        if avarage_auc > avarage_auc_abc_min:\n",
    "            avarage_auc_abc_min = avarage_auc\n",
    "            learning_rate_best = learning_rate\n",
    "            n_estimators_best = n_estimators\n",
    "            print(f\"learning_rate: {learning_rate_best}, n_estimators: {n_estimators_best} gives the avarage AUC: {avarage_auc_abc_min}\")\n",
    "            "
   ]
  },
  {
   "cell_type": "code",
   "execution_count": null,
   "metadata": {},
   "outputs": [],
   "source": []
  }
 ],
 "metadata": {
  "kernelspec": {
   "display_name": "env",
   "language": "python",
   "name": "python3"
  },
  "language_info": {
   "codemirror_mode": {
    "name": "ipython",
    "version": 3
   },
   "file_extension": ".py",
   "mimetype": "text/x-python",
   "name": "python",
   "nbconvert_exporter": "python",
   "pygments_lexer": "ipython3",
   "version": "3.11.1"
  }
 },
 "nbformat": 4,
 "nbformat_minor": 2
}
